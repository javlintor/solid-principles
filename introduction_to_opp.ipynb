{
 "cells": [
  {
   "cell_type": "markdown",
   "metadata": {},
   "source": [
    "# Principles of Object Oriented Programming\n",
    "A programming paradigm is just a model, a programming style that gives us some guidelines on how to develop and interact with code.\n",
    "\n",
    "In **OPP** (Object Oriented Programming) we try to think about objects, which are sets of function of variables (often called attributes and methods, respectively)\n",
    "\n",
    "The stage in which we design this objects is called *data modeling*. An object is an instance of a class, which is sort of a global definition of an object."
   ]
  },
  {
   "cell_type": "markdown",
   "metadata": {},
   "source": [
    "Let us create a class `Animal` an two instances, `dog` and `cat`. An animal will have an age, which is an attribute and a method `grow_old`, which increases age by one."
   ]
  },
  {
   "cell_type": "code",
   "execution_count": 1,
   "metadata": {},
   "outputs": [
    {
     "name": "stdout",
     "output_type": "stream",
     "text": [
      "6\n",
      "7\n"
     ]
    }
   ],
   "source": [
    "class Animal: \n",
    "    def __init__(self, age: int) -> None: \n",
    "        self.age = age\n",
    "\n",
    "    def grow_old(self) -> None: \n",
    "        self.age += 1\n",
    "\n",
    "dog = Animal(5)\n",
    "cat = Animal(6)\n",
    "print(cat.age)\n",
    "cat.grow_old()\n",
    "print(cat.age)"
   ]
  },
  {
   "cell_type": "markdown",
   "metadata": {},
   "source": [
    "## Encapsulation\n",
    "Every object is in charge of its information and state, and should not be changed by external methods, so the only way to modify an object is by its own methods. We usually manage those operations with the so called *getters* and *setters* methods. "
   ]
  },
  {
   "cell_type": "markdown",
   "metadata": {},
   "source": [
    "## Abstraction\n",
    "We must think about objects as black boxes, so that it should be clear how to interact with objects despite beign unaware of the internal implementation. Outside a class, no object must know how the class is done. \n",
    "\n",
    "For example, if we have a class `Repository`, we should know how to use it no matter where the data is coming from (a text file, a data base or the internet)."
   ]
  },
  {
   "cell_type": "markdown",
   "metadata": {},
   "source": [
    "## Inheritance\n",
    "The idea is to prioritize **reusing** methods, based on generalization. For example, we can use the base class `Animal` to create `LandAnimal` or `AquaticAnimal`. Those clases have an `age` attribute and a `grow_old` method, but we can implement new ones. "
   ]
  },
  {
   "cell_type": "code",
   "execution_count": 2,
   "metadata": {},
   "outputs": [
    {
     "name": "stdout",
     "output_type": "stream",
     "text": [
      "Animal is walking\n",
      "Animal is swiming\n"
     ]
    }
   ],
   "source": [
    "class LandAnimal(Animal): \n",
    "    def walk(self) -> None: \n",
    "        print(\"Animal is walking\")\n",
    "\n",
    "class AquaticAnimal(Animal): \n",
    "    def swim(self) -> None:\n",
    "        print(\"Animal is swiming\")\n",
    "\n",
    "dog = LandAnimal(5)\n",
    "dog.walk()\n",
    "fish = AquaticAnimal(1)\n",
    "fish.swim()"
   ]
  },
  {
   "cell_type": "code",
   "execution_count": 3,
   "metadata": {},
   "outputs": [
    {
     "ename": "AttributeError",
     "evalue": "'AquaticAnimal' object has no attribute 'walk'",
     "output_type": "error",
     "traceback": [
      "\u001b[0;31m---------------------------------------------------------------------------\u001b[0m",
      "\u001b[0;31mAttributeError\u001b[0m                            Traceback (most recent call last)",
      "\u001b[0;32m<ipython-input-3-82fb6408df31>\u001b[0m in \u001b[0;36m<module>\u001b[0;34m\u001b[0m\n\u001b[0;32m----> 1\u001b[0;31m \u001b[0mfish\u001b[0m\u001b[0;34m.\u001b[0m\u001b[0mwalk\u001b[0m\u001b[0;34m(\u001b[0m\u001b[0;34m)\u001b[0m\u001b[0;34m\u001b[0m\u001b[0;34m\u001b[0m\u001b[0m\n\u001b[0m",
      "\u001b[0;31mAttributeError\u001b[0m: 'AquaticAnimal' object has no attribute 'walk'"
     ]
    }
   ],
   "source": [
    "fish.walk()"
   ]
  },
  {
   "cell_type": "code",
   "execution_count": null,
   "metadata": {},
   "outputs": [
    {
     "data": {
      "text/plain": [
       "True"
      ]
     },
     "execution_count": 7,
     "metadata": {},
     "output_type": "execute_result"
    }
   ],
   "source": [
    "isinstance(fish, Animal)"
   ]
  },
  {
   "cell_type": "markdown",
   "metadata": {},
   "source": [
    "## Polimorfismo\n",
    "It is the ability of processing objects in different ways. For example let us suppose we have two subclasses of `LandAnimal`,  `BipedAnimal` and `QuadrupedalAnimal` with different walk methods "
   ]
  },
  {
   "cell_type": "code",
   "execution_count": 12,
   "metadata": {},
   "outputs": [],
   "source": [
    "class BipedAnimal(LandAnimal):\n",
    "    def walk(self) -> None: \n",
    "        print(\"Moved two legs\")\n",
    "\n",
    "class QuadrupedalAnimal(LandAnimal):\n",
    "    def walk(self) -> None: \n",
    "        print(\"Moved four legs\")"
   ]
  },
  {
   "cell_type": "markdown",
   "metadata": {},
   "source": [
    "And now let us define a function that takes a `LandAnimal` as an argument and make it walk $n$ times. This function will have different behaviuor depending on the implementation ot the `walk` method in each class"
   ]
  },
  {
   "cell_type": "code",
   "execution_count": 13,
   "metadata": {},
   "outputs": [],
   "source": [
    "def walk_n_times(landanimal: LandAnimal, n: int):\n",
    "    for i in range(n):\n",
    "        landanimal.walk()"
   ]
  },
  {
   "cell_type": "code",
   "execution_count": 14,
   "metadata": {},
   "outputs": [],
   "source": [
    "human = BipedAnimal(50)\n",
    "dog = QuadrupedalAnimal(4)"
   ]
  },
  {
   "cell_type": "code",
   "execution_count": 15,
   "metadata": {},
   "outputs": [
    {
     "name": "stdout",
     "output_type": "stream",
     "text": [
      "Moved two legs\n",
      "Moved two legs\n",
      "Moved two legs\n"
     ]
    }
   ],
   "source": [
    "walk_n_times(human, 3)"
   ]
  },
  {
   "cell_type": "code",
   "execution_count": 16,
   "metadata": {},
   "outputs": [
    {
     "name": "stdout",
     "output_type": "stream",
     "text": [
      "Moved four legs\n",
      "Moved four legs\n"
     ]
    }
   ],
   "source": [
    "walk_n_times(dog, 2)"
   ]
  }
 ],
 "metadata": {
  "kernelspec": {
   "display_name": "Python 3.9.1 64-bit",
   "language": "python",
   "name": "python3"
  },
  "language_info": {
   "codemirror_mode": {
    "name": "ipython",
    "version": 3
   },
   "file_extension": ".py",
   "mimetype": "text/x-python",
   "name": "python",
   "nbconvert_exporter": "python",
   "pygments_lexer": "ipython3",
   "version": "3.9.1"
  },
  "orig_nbformat": 4,
  "vscode": {
   "interpreter": {
    "hash": "397704579725e15f5c7cb49fe5f0341eb7531c82d19f2c29d197e8b64ab5776b"
   }
  }
 },
 "nbformat": 4,
 "nbformat_minor": 2
}
